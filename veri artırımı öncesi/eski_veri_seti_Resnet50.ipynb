{
  "metadata": {
    "kernelspec": {
      "display_name": "Python 3",
      "name": "python3"
    },
    "language_info": {
      "name": "python",
      "version": "3.10.12",
      "mimetype": "text/x-python",
      "codemirror_mode": {
        "name": "ipython",
        "version": 3
      },
      "pygments_lexer": "ipython3",
      "nbconvert_exporter": "python",
      "file_extension": ".py"
    },
    "kaggle": {
      "accelerator": "none",
      "dataSources": [
        {
          "sourceId": 10755234,
          "sourceType": "datasetVersion",
          "datasetId": 6670793
        }
      ],
      "dockerImageVersionId": 30918,
      "isInternetEnabled": false,
      "language": "python",
      "sourceType": "notebook",
      "isGpuEnabled": false
    },
    "colab": {
      "provenance": [],
      "gpuType": "T4"
    },
    "accelerator": "GPU"
  },
  "nbformat_minor": 0,
  "nbformat": 4,
  "cells": [
    {
      "cell_type": "code",
      "source": [
        "import shutil\n",
        "\n",
        "zip_path = \"/content/archive.zip\"  # Zip dosyasının konumu\n",
        "extract_to = \"/content/eski-veri-seti-snf-karm\"  # Çıkartılacak hedef klasör\n",
        "\n",
        "shutil.unpack_archive(zip_path, extract_to)\n",
        "\n",
        "print(\"✅ Dosya başarıyla çıkartıldı!\")\n"
      ],
      "metadata": {
        "colab": {
          "base_uri": "https://localhost:8080/"
        },
        "id": "YfHXTj1TNpO6",
        "outputId": "0afe369c-c3a6-47c3-a60a-bb153c9085f0"
      },
      "execution_count": 2,
      "outputs": [
        {
          "output_type": "stream",
          "name": "stdout",
          "text": [
            "✅ Dosya başarıyla çıkartıldı!\n"
          ]
        }
      ]
    },
    {
      "cell_type": "code",
      "source": [
        "import os\n",
        "import shutil\n",
        "from sklearn.model_selection import train_test_split\n",
        "\n",
        "# Ana veri dizini ve hedef dizinleri tanımla\n",
        "base_dir = \"/content/eski-veri-seti-snf-karm\"\n",
        "output_dir = \"/content/split_dataset\"\n",
        "train_dir = os.path.join(output_dir, \"train\")\n",
        "test_dir = os.path.join(output_dir, \"test\")\n",
        "\n",
        "# Oranları belirle\n",
        "test_size = 0.2\n",
        "\n",
        "# Mevcut dizinleri temizle ve yeniden oluştur\n",
        "for folder in [train_dir, test_dir]:\n",
        "    if os.path.exists(folder):\n",
        "        shutil.rmtree(folder)\n",
        "    os.makedirs(folder)\n",
        "\n",
        "# Her bir sınıfı ayrı ayrı işle\n",
        "for class_name in os.listdir(base_dir):\n",
        "    class_path = os.path.join(base_dir, class_name)\n",
        "    if not os.path.isdir(class_path):\n",
        "        continue\n",
        "\n",
        "    # Görselleri listele ve train/test olarak ayır\n",
        "    images = [img for img in os.listdir(class_path) if img.endswith(('.jpg', '.jpeg', '.png'))]\n",
        "    train_images, test_images = train_test_split(images, test_size=test_size, random_state=42)\n",
        "\n",
        "    # Hedef klasörleri oluştur\n",
        "    train_class_dir = os.path.join(train_dir, class_name)\n",
        "    test_class_dir = os.path.join(test_dir, class_name)\n",
        "    os.makedirs(train_class_dir, exist_ok=True)\n",
        "    os.makedirs(test_class_dir, exist_ok=True)\n",
        "\n",
        "    # Görselleri ilgili klasörlere KOPYALA\n",
        "    for img in train_images:\n",
        "        shutil.copy2(os.path.join(class_path, img), os.path.join(train_class_dir, img))\n",
        "    for img in test_images:\n",
        "        shutil.copy2(os.path.join(class_path, img), os.path.join(test_class_dir, img))\n",
        "\n",
        "print(\"✅ Veri başarıyla train/test olarak bölündü.\")\n"
      ],
      "metadata": {
        "_uuid": "8f2839f25d086af736a60e9eeb907d3b93b6e0e5",
        "_cell_guid": "b1076dfc-b9ad-4769-8c92-a6c4dae69d19",
        "trusted": true,
        "execution": {
          "iopub.status.busy": "2025-02-26T07:34:33.946755Z",
          "iopub.execute_input": "2025-02-26T07:34:33.947007Z",
          "iopub.status.idle": "2025-02-26T07:35:03.541172Z",
          "shell.execute_reply.started": "2025-02-26T07:34:33.946983Z",
          "shell.execute_reply": "2025-02-26T07:35:03.539989Z"
        },
        "colab": {
          "base_uri": "https://localhost:8080/"
        },
        "id": "nB8iNdOdM1jp",
        "outputId": "050aaed6-e6f2-4639-80ce-26c28116bdf1"
      },
      "outputs": [
        {
          "output_type": "stream",
          "name": "stdout",
          "text": [
            "✅ Veri başarıyla train/test olarak bölündü.\n"
          ]
        }
      ],
      "execution_count": 3
    },
    {
      "cell_type": "code",
      "source": [
        "import tensorflow as tf\n",
        "from tensorflow.keras.applications import VGG16\n",
        "from tensorflow.keras.models import Sequential\n",
        "from tensorflow.keras.layers import Dense, GlobalAveragePooling2D, Dropout\n",
        "from tensorflow.keras.optimizers import Adam\n",
        "from tensorflow.keras.callbacks import EarlyStopping, ModelCheckpoint\n",
        "import matplotlib.pyplot as plt\n",
        "\n",
        "# Veri dizinleri\n",
        "train_dir = \"/content/split_dataset/train\"\n",
        "test_dir = \"/content/split_dataset/test\"\n",
        "img_size = (224, 224)\n",
        "batch_size = 64\n",
        "epochs = 10 # İlk eğitim için epoch sayısı\n",
        "\n",
        "# Veri setlerini yükle\n",
        "train_dataset = tf.keras.preprocessing.image_dataset_from_directory(\n",
        "    train_dir,\n",
        "    image_size=img_size,\n",
        "    batch_size=batch_size,\n",
        "    label_mode='categorical',  # Etiketleri one-hot encode et\n",
        "    shuffle=True,\n",
        "    seed=42\n",
        ")\n",
        "\n",
        "test_dataset = tf.keras.preprocessing.image_dataset_from_directory(\n",
        "    test_dir,\n",
        "    image_size=img_size,\n",
        "    batch_size=batch_size,\n",
        "    label_mode='categorical',  # Etiketleri one-hot encode et\n",
        "    shuffle=False\n",
        ")\n",
        "\n",
        "from tensorflow.keras.layers import RandomFlip, RandomRotation, RandomZoom, RandomContrast\n",
        "\n",
        "# Veri artırma (Data Augmentation) katmanları\n",
        "data_augmentation = tf.keras.Sequential([\n",
        "    RandomFlip(\"horizontal_and_vertical\"),\n",
        "    RandomRotation(0.2),\n",
        "    RandomZoom(0.2),\n",
        "    RandomContrast(0.2)\n",
        "])\n",
        "\n",
        "\n",
        "\n",
        "# Veri setine artırma uygula\n",
        "train_dataset = train_dataset.map(\n",
        "    lambda x, y: (data_augmentation(x, training=True), y)\n",
        ")\n",
        "\n",
        "# Normalizasyon katmanı\n",
        "preprocess_input = tf.keras.applications.vgg16.preprocess_input\n",
        "\n",
        "# Veri setine normalizasyon uygula\n",
        "train_dataset = train_dataset.map(\n",
        "    lambda x, y: (preprocess_input(x), y)\n",
        ")\n",
        "test_dataset = test_dataset.map(\n",
        "    lambda x, y: (preprocess_input(x), y)\n",
        ")\n",
        "\n",
        "# Veri setlerini performans için optimize et\n",
        "AUTOTUNE = tf.data.AUTOTUNE\n",
        "train_dataset = train_dataset.prefetch(buffer_size=AUTOTUNE)\n",
        "test_dataset = test_dataset.prefetch(buffer_size=AUTOTUNE)\n"
      ],
      "metadata": {
        "trusted": true,
        "execution": {
          "iopub.status.busy": "2025-02-26T07:35:09.479949Z",
          "iopub.execute_input": "2025-02-26T07:35:09.480303Z",
          "iopub.status.idle": "2025-02-26T07:35:26.479267Z",
          "shell.execute_reply.started": "2025-02-26T07:35:09.480276Z",
          "shell.execute_reply": "2025-02-26T07:35:26.478073Z"
        },
        "colab": {
          "base_uri": "https://localhost:8080/"
        },
        "id": "EypFS3WGM1jr",
        "outputId": "85191284-f83d-454b-ed45-dc16846ee8b2"
      },
      "outputs": [
        {
          "output_type": "stream",
          "name": "stdout",
          "text": [
            "Found 5110 files belonging to 8 classes.\n",
            "Found 1282 files belonging to 8 classes.\n"
          ]
        }
      ],
      "execution_count": 9
    },
    {
      "cell_type": "code",
      "source": [
        "from tensorflow.keras.applications import ResNet50\n",
        "from tensorflow.keras.layers import GlobalAveragePooling2D, Dense, Dropout\n",
        "from tensorflow.keras.models import Sequential\n",
        "from tensorflow.keras.optimizers import Adam\n",
        "from tensorflow.keras.callbacks import EarlyStopping, ModelCheckpoint\n",
        "\n",
        "# ResNet50 modelini yükle (transfer öğrenme)\n",
        "base_model = ResNet50(weights='imagenet', include_top=False, input_shape=(224, 224, 3))\n",
        "base_model.trainable = False  # Başlangıçta katmanları dondur\n",
        "\n",
        "# Model mimarisi\n",
        "model = Sequential([\n",
        "    base_model,\n",
        "    GlobalAveragePooling2D(),\n",
        "    Dense(256, activation='relu'),\n",
        "    Dropout(0.5),\n",
        "    Dense(train_dataset.element_spec[1].shape[1], activation='softmax')  # Sınıf sayısı\n",
        "])\n",
        "\n",
        "# Modeli derle\n",
        "model.compile(optimizer=Adam(learning_rate=0.001),\n",
        "              loss='categorical_crossentropy',\n",
        "              metrics=['accuracy'])\n",
        "\n",
        "# Callbacks\n",
        "early_stopping = EarlyStopping(monitor='val_loss', patience=5, restore_best_weights=True)\n",
        "model_checkpoint = ModelCheckpoint('resnet50_model.keras', save_best_only=True, monitor='val_accuracy')\n",
        "\n",
        "# İlk eğitim (transfer öğrenme)\n",
        "history = model.fit(\n",
        "    train_dataset,\n",
        "    epochs=epochs,\n",
        "    validation_data=test_dataset,\n",
        "    callbacks=[early_stopping, model_checkpoint]\n",
        ")"
      ],
      "metadata": {
        "trusted": true,
        "execution": {
          "iopub.status.busy": "2025-02-26T07:35:36.944756Z",
          "iopub.execute_input": "2025-02-26T07:35:36.945122Z",
          "iopub.status.idle": "2025-02-26T07:36:09.579212Z",
          "shell.execute_reply.started": "2025-02-26T07:35:36.945094Z",
          "shell.execute_reply": "2025-02-26T07:36:09.577069Z"
        },
        "colab": {
          "base_uri": "https://localhost:8080/"
        },
        "id": "6BRK9EmVM1jr",
        "outputId": "be895214-cf89-42ee-b65f-a8ae4fe5a325"
      },
      "outputs": [
        {
          "output_type": "stream",
          "name": "stdout",
          "text": [
            "Downloading data from https://storage.googleapis.com/tensorflow/keras-applications/resnet/resnet50_weights_tf_dim_ordering_tf_kernels_notop.h5\n",
            "\u001b[1m94765736/94765736\u001b[0m \u001b[32m━━━━━━━━━━━━━━━━━━━━\u001b[0m\u001b[37m\u001b[0m \u001b[1m5s\u001b[0m 0us/step\n",
            "Epoch 1/10\n",
            "\u001b[1m80/80\u001b[0m \u001b[32m━━━━━━━━━━━━━━━━━━━━\u001b[0m\u001b[37m\u001b[0m \u001b[1m115s\u001b[0m 1s/step - accuracy: 0.4000 - loss: 1.7312 - val_accuracy: 0.5016 - val_loss: 1.2584\n",
            "Epoch 2/10\n",
            "\u001b[1m80/80\u001b[0m \u001b[32m━━━━━━━━━━━━━━━━━━━━\u001b[0m\u001b[37m\u001b[0m \u001b[1m86s\u001b[0m 1s/step - accuracy: 0.4835 - loss: 1.3411 - val_accuracy: 0.5343 - val_loss: 1.2502\n",
            "Epoch 3/10\n",
            "\u001b[1m80/80\u001b[0m \u001b[32m━━━━━━━━━━━━━━━━━━━━\u001b[0m\u001b[37m\u001b[0m \u001b[1m87s\u001b[0m 1s/step - accuracy: 0.5043 - loss: 1.2982 - val_accuracy: 0.5413 - val_loss: 1.2139\n",
            "Epoch 4/10\n",
            "\u001b[1m80/80\u001b[0m \u001b[32m━━━━━━━━━━━━━━━━━━━━\u001b[0m\u001b[37m\u001b[0m \u001b[1m138s\u001b[0m 1s/step - accuracy: 0.5100 - loss: 1.2973 - val_accuracy: 0.5374 - val_loss: 1.2026\n",
            "Epoch 5/10\n",
            "\u001b[1m80/80\u001b[0m \u001b[32m━━━━━━━━━━━━━━━━━━━━\u001b[0m\u001b[37m\u001b[0m \u001b[1m144s\u001b[0m 1s/step - accuracy: 0.5256 - loss: 1.2685 - val_accuracy: 0.5257 - val_loss: 1.2129\n",
            "Epoch 6/10\n",
            "\u001b[1m80/80\u001b[0m \u001b[32m━━━━━━━━━━━━━━━━━━━━\u001b[0m\u001b[37m\u001b[0m \u001b[1m85s\u001b[0m 1s/step - accuracy: 0.5233 - loss: 1.2495 - val_accuracy: 0.5507 - val_loss: 1.1923\n",
            "Epoch 7/10\n",
            "\u001b[1m80/80\u001b[0m \u001b[32m━━━━━━━━━━━━━━━━━━━━\u001b[0m\u001b[37m\u001b[0m \u001b[1m84s\u001b[0m 1s/step - accuracy: 0.5365 - loss: 1.2274 - val_accuracy: 0.5429 - val_loss: 1.1799\n",
            "Epoch 8/10\n",
            "\u001b[1m80/80\u001b[0m \u001b[32m━━━━━━━━━━━━━━━━━━━━\u001b[0m\u001b[37m\u001b[0m \u001b[1m142s\u001b[0m 1s/step - accuracy: 0.5334 - loss: 1.2077 - val_accuracy: 0.5460 - val_loss: 1.1878\n",
            "Epoch 9/10\n",
            "\u001b[1m80/80\u001b[0m \u001b[32m━━━━━━━━━━━━━━━━━━━━\u001b[0m\u001b[37m\u001b[0m \u001b[1m84s\u001b[0m 1s/step - accuracy: 0.5387 - loss: 1.2202 - val_accuracy: 0.5624 - val_loss: 1.1875\n",
            "Epoch 10/10\n",
            "\u001b[1m80/80\u001b[0m \u001b[32m━━━━━━━━━━━━━━━━━━━━\u001b[0m\u001b[37m\u001b[0m \u001b[1m141s\u001b[0m 1s/step - accuracy: 0.5395 - loss: 1.1929 - val_accuracy: 0.5554 - val_loss: 1.1594\n"
          ]
        }
      ],
      "execution_count": 10
    },
    {
      "cell_type": "code",
      "source": [
        "# Sonuçları görselleştir\n",
        "plt.figure(figsize=(12, 5))\n",
        "plt.subplot(1, 2, 1)\n",
        "plt.plot(history.history['accuracy'], label='Eğitim Doğruluğu')\n",
        "plt.plot(history.history['val_accuracy'], label='Doğrulama Doğruluğu')\n",
        "plt.title('Model Doğruluğu')\n",
        "plt.legend()\n",
        "\n",
        "plt.subplot(1, 2, 2)\n",
        "plt.plot(history.history['loss'], label='Eğitim Kaybı')\n",
        "plt.plot(history.history['val_loss'], label='Doğrulama Kaybı')\n",
        "plt.title('Model Kaybı')\n",
        "plt.legend()\n",
        "\n",
        "plt.show()"
      ],
      "metadata": {
        "trusted": true,
        "execution": {
          "iopub.status.busy": "2025-02-26T07:36:09.581166Z",
          "iopub.status.idle": "2025-02-26T07:36:09.581543Z",
          "shell.execute_reply": "2025-02-26T07:36:09.581405Z"
        },
        "colab": {
          "base_uri": "https://localhost:8080/",
          "height": 468
        },
        "id": "0pSalOIdM1jr",
        "outputId": "1841cbd1-1fe1-42b1-d2b1-20286a0f712a"
      },
      "outputs": [
        {
          "output_type": "display_data",
          "data": {
            "text/plain": [
              "<Figure size 1200x500 with 2 Axes>"
            ],
            "image/png": "[encoded data removed]"
          },
          "metadata": {}
        }
      ],
      "execution_count": 11
    },
    {
      "cell_type": "code",
      "source": [
        "from sklearn.metrics import classification_report, confusion_matrix\n",
        "import numpy as np\n",
        "\n",
        "# Test veri kümesini tahmin et\n",
        "true_labels = []\n",
        "predicted_labels = []\n",
        "\n",
        "for images, labels in test_dataset:\n",
        "    preds = model.predict(images)\n",
        "    predicted_classes = np.argmax(preds, axis=1)\n",
        "    true_classes = np.argmax(labels.numpy(), axis=1)\n",
        "\n",
        "    predicted_labels.extend(predicted_classes)\n",
        "    true_labels.extend(true_classes)\n",
        "\n",
        "# Performans raporu\n",
        "unique_classes = sorted(set(true_labels + predicted_labels))\n",
        "target_names = [str(cls) for cls in unique_classes]\n",
        "report = classification_report(true_labels, predicted_labels, target_names=target_names)\n",
        "print(\"Classification Report:\\n\", report)\n",
        "\n",
        "# Confusion matrix\n",
        "cmp = confusion_matrix(true_labels, predicted_labels)\n",
        "print(\"Confusion Matrix:\\n\", cmp)\n"
      ],
      "metadata": {
        "trusted": true,
        "execution": {
          "iopub.status.busy": "2025-02-26T07:36:09.582443Z",
          "iopub.status.idle": "2025-02-26T07:36:09.582817Z",
          "shell.execute_reply": "2025-02-26T07:36:09.582654Z"
        },
        "colab": {
          "base_uri": "https://localhost:8080/"
        },
        "id": "X86uUrK4M1jr",
        "outputId": "37b17db8-2b2e-4afd-a11c-d82b1f875609"
      },
      "outputs": [
        {
          "output_type": "stream",
          "name": "stdout",
          "text": [
            "\u001b[1m2/2\u001b[0m \u001b[32m━━━━━━━━━━━━━━━━━━━━\u001b[0m\u001b[37m\u001b[0m \u001b[1m6s\u001b[0m 95ms/step\n",
            "\u001b[1m2/2\u001b[0m \u001b[32m━━━━━━━━━━━━━━━━━━━━\u001b[0m\u001b[37m\u001b[0m \u001b[1m0s\u001b[0m 96ms/step\n",
            "\u001b[1m2/2\u001b[0m \u001b[32m━━━━━━━━━━━━━━━━━━━━\u001b[0m\u001b[37m\u001b[0m \u001b[1m0s\u001b[0m 96ms/step\n",
            "\u001b[1m2/2\u001b[0m \u001b[32m━━━━━━━━━━━━━━━━━━━━\u001b[0m\u001b[37m\u001b[0m \u001b[1m0s\u001b[0m 99ms/step\n",
            "\u001b[1m2/2\u001b[0m \u001b[32m━━━━━━━━━━━━━━━━━━━━\u001b[0m\u001b[37m\u001b[0m \u001b[1m0s\u001b[0m 94ms/step\n",
            "\u001b[1m2/2\u001b[0m \u001b[32m━━━━━━━━━━━━━━━━━━━━\u001b[0m\u001b[37m\u001b[0m \u001b[1m0s\u001b[0m 95ms/step\n",
            "\u001b[1m2/2\u001b[0m \u001b[32m━━━━━━━━━━━━━━━━━━━━\u001b[0m\u001b[37m\u001b[0m \u001b[1m0s\u001b[0m 98ms/step\n",
            "\u001b[1m2/2\u001b[0m \u001b[32m━━━━━━━━━━━━━━━━━━━━\u001b[0m\u001b[37m\u001b[0m \u001b[1m0s\u001b[0m 95ms/step\n",
            "\u001b[1m2/2\u001b[0m \u001b[32m━━━━━━━━━━━━━━━━━━━━\u001b[0m\u001b[37m\u001b[0m \u001b[1m0s\u001b[0m 95ms/step\n",
            "\u001b[1m2/2\u001b[0m \u001b[32m━━━━━━━━━━━━━━━━━━━━\u001b[0m\u001b[37m\u001b[0m \u001b[1m0s\u001b[0m 98ms/step\n",
            "\u001b[1m2/2\u001b[0m \u001b[32m━━━━━━━━━━━━━━━━━━━━\u001b[0m\u001b[37m\u001b[0m \u001b[1m0s\u001b[0m 110ms/step\n",
            "\u001b[1m2/2\u001b[0m \u001b[32m━━━━━━━━━━━━━━━━━━━━\u001b[0m\u001b[37m\u001b[0m \u001b[1m0s\u001b[0m 104ms/step\n",
            "\u001b[1m2/2\u001b[0m \u001b[32m━━━━━━━━━━━━━━━━━━━━\u001b[0m\u001b[37m\u001b[0m \u001b[1m0s\u001b[0m 105ms/step\n",
            "\u001b[1m2/2\u001b[0m \u001b[32m━━━━━━━━━━━━━━━━━━━━\u001b[0m\u001b[37m\u001b[0m \u001b[1m0s\u001b[0m 113ms/step\n",
            "\u001b[1m2/2\u001b[0m \u001b[32m━━━━━━━━━━━━━━━━━━━━\u001b[0m\u001b[37m\u001b[0m \u001b[1m0s\u001b[0m 111ms/step\n",
            "\u001b[1m2/2\u001b[0m \u001b[32m━━━━━━━━━━━━━━━━━━━━\u001b[0m\u001b[37m\u001b[0m \u001b[1m0s\u001b[0m 98ms/step\n",
            "\u001b[1m2/2\u001b[0m \u001b[32m━━━━━━━━━━━━━━━━━━━━\u001b[0m\u001b[37m\u001b[0m \u001b[1m0s\u001b[0m 97ms/step\n",
            "\u001b[1m2/2\u001b[0m \u001b[32m━━━━━━━━━━━━━━━━━━━━\u001b[0m\u001b[37m\u001b[0m \u001b[1m0s\u001b[0m 97ms/step\n",
            "\u001b[1m2/2\u001b[0m \u001b[32m━━━━━━━━━━━━━━━━━━━━\u001b[0m\u001b[37m\u001b[0m \u001b[1m0s\u001b[0m 96ms/step\n",
            "\u001b[1m2/2\u001b[0m \u001b[32m━━━━━━━━━━━━━━━━━━━━\u001b[0m\u001b[37m\u001b[0m \u001b[1m0s\u001b[0m 96ms/step\n",
            "\u001b[1m1/1\u001b[0m \u001b[32m━━━━━━━━━━━━━━━━━━━━\u001b[0m\u001b[37m\u001b[0m \u001b[1m3s\u001b[0m 3s/step\n",
            "Classification Report:\n",
            "               precision    recall  f1-score   support\n",
            "\n",
            "           0       0.00      0.00      0.00        54\n",
            "           1       0.73      0.73      0.73        59\n",
            "           2       0.49      0.30      0.37       322\n",
            "           3       0.50      0.02      0.03        57\n",
            "           4       0.00      0.00      0.00        26\n",
            "           5       0.78      0.83      0.80        47\n",
            "           6       0.55      0.92      0.69       575\n",
            "           7       0.12      0.01      0.01       142\n",
            "\n",
            "    accuracy                           0.56      1282\n",
            "   macro avg       0.40      0.35      0.33      1282\n",
            "weighted avg       0.47      0.56      0.47      1282\n",
            "\n",
            "Confusion Matrix:\n",
            " [[  0   2  21   0   0   4  26   1]\n",
            " [  0  43   0   0   0   0  14   2]\n",
            " [  0   1  97   0   0   2 222   0]\n",
            " [  0   0   3   1   0   3  49   1]\n",
            " [  0   0  12   0   0   0  14   0]\n",
            " [  0   1   0   0   0  39   6   1]\n",
            " [  0   3  37   0   0   2 531   2]\n",
            " [  0   9  26   1   0   0 105   1]]\n"
          ]
        },
        {
          "output_type": "stream",
          "name": "stderr",
          "text": [
            "/usr/local/lib/python3.11/dist-packages/sklearn/metrics/_classification.py:1565: UndefinedMetricWarning: Precision is ill-defined and being set to 0.0 in labels with no predicted samples. Use `zero_division` parameter to control this behavior.\n",
            "  _warn_prf(average, modifier, f\"{metric.capitalize()} is\", len(result))\n",
            "/usr/local/lib/python3.11/dist-packages/sklearn/metrics/_classification.py:1565: UndefinedMetricWarning: Precision is ill-defined and being set to 0.0 in labels with no predicted samples. Use `zero_division` parameter to control this behavior.\n",
            "  _warn_prf(average, modifier, f\"{metric.capitalize()} is\", len(result))\n",
            "/usr/local/lib/python3.11/dist-packages/sklearn/metrics/_classification.py:1565: UndefinedMetricWarning: Precision is ill-defined and being set to 0.0 in labels with no predicted samples. Use `zero_division` parameter to control this behavior.\n",
            "  _warn_prf(average, modifier, f\"{metric.capitalize()} is\", len(result))\n"
          ]
        }
      ],
      "execution_count": 12
    }
  ]
}