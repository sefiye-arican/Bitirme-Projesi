{
  "metadata": {
    "kernelspec": {
      "display_name": "Python 3",
      "name": "python3"
    },
    "language_info": {
      "name": "python",
      "version": "3.10.12",
      "mimetype": "text/x-python",
      "codemirror_mode": {
        "name": "ipython",
        "version": 3
      },
      "pygments_lexer": "ipython3",
      "nbconvert_exporter": "python",
      "file_extension": ".py"
    },
    "kaggle": {
      "accelerator": "none",
      "dataSources": [
        {
          "sourceId": 10755234,
          "sourceType": "datasetVersion",
          "datasetId": 6670793
        }
      ],
      "dockerImageVersionId": 30918,
      "isInternetEnabled": false,
      "language": "python",
      "sourceType": "notebook",
      "isGpuEnabled": false
    },
    "colab": {
      "provenance": [],
      "gpuType": "T4"
    },
    "accelerator": "GPU"
  },
  "nbformat_minor": 0,
  "nbformat": 4,
  "cells": [
    {
      "cell_type": "code",
      "source": [
        "import shutil\n",
        "\n",
        "zip_path = \"/content/archive.zip\"  # Zip dosyasının konumu\n",
        "extract_to = \"/content/eski-veri-seti-snf-karm\"  # Çıkartılacak hedef klasör\n",
        "\n",
        "shutil.unpack_archive(zip_path, extract_to)\n",
        "\n",
        "print(\"✅ Dosya başarıyla çıkartıldı!\")\n"
      ],
      "metadata": {
        "colab": {
          "base_uri": "https://localhost:8080/"
        },
        "id": "YfHXTj1TNpO6",
        "outputId": "0afe369c-c3a6-47c3-a60a-bb153c9085f0"
      },
      "execution_count": 2,
      "outputs": [
        {
          "output_type": "stream",
          "name": "stdout",
          "text": [
            "✅ Dosya başarıyla çıkartıldı!\n"
          ]
        }
      ]
    },
    {
      "cell_type": "code",
      "source": [
        "import os\n",
        "import shutil\n",
        "from sklearn.model_selection import train_test_split\n",
        "\n",
        "# Ana veri dizini ve hedef dizinleri tanımla\n",
        "base_dir = \"/content/eski-veri-seti-snf-karm\"\n",
        "output_dir = \"/content/split_dataset\"\n",
        "train_dir = os.path.join(output_dir, \"train\")\n",
        "test_dir = os.path.join(output_dir, \"test\")\n",
        "\n",
        "# Oranları belirle\n",
        "test_size = 0.2\n",
        "\n",
        "# Mevcut dizinleri temizle ve yeniden oluştur\n",
        "for folder in [train_dir, test_dir]:\n",
        "    if os.path.exists(folder):\n",
        "        shutil.rmtree(folder)\n",
        "    os.makedirs(folder)\n",
        "\n",
        "# Her bir sınıfı ayrı ayrı işle\n",
        "for class_name in os.listdir(base_dir):\n",
        "    class_path = os.path.join(base_dir, class_name)\n",
        "    if not os.path.isdir(class_path):\n",
        "        continue\n",
        "\n",
        "    # Görselleri listele ve train/test olarak ayır\n",
        "    images = [img for img in os.listdir(class_path) if img.endswith(('.jpg', '.jpeg', '.png'))]\n",
        "    train_images, test_images = train_test_split(images, test_size=test_size, random_state=42)\n",
        "\n",
        "    # Hedef klasörleri oluştur\n",
        "    train_class_dir = os.path.join(train_dir, class_name)\n",
        "    test_class_dir = os.path.join(test_dir, class_name)\n",
        "    os.makedirs(train_class_dir, exist_ok=True)\n",
        "    os.makedirs(test_class_dir, exist_ok=True)\n",
        "\n",
        "    # Görselleri ilgili klasörlere KOPYALA\n",
        "    for img in train_images:\n",
        "        shutil.copy2(os.path.join(class_path, img), os.path.join(train_class_dir, img))\n",
        "    for img in test_images:\n",
        "        shutil.copy2(os.path.join(class_path, img), os.path.join(test_class_dir, img))\n",
        "\n",
        "print(\"✅ Veri başarıyla train/test olarak bölündü.\")\n"
      ],
      "metadata": {
        "_uuid": "8f2839f25d086af736a60e9eeb907d3b93b6e0e5",
        "_cell_guid": "b1076dfc-b9ad-4769-8c92-a6c4dae69d19",
        "trusted": true,
        "execution": {
          "iopub.status.busy": "2025-02-26T07:34:33.946755Z",
          "iopub.execute_input": "2025-02-26T07:34:33.947007Z",
          "iopub.status.idle": "2025-02-26T07:35:03.541172Z",
          "shell.execute_reply.started": "2025-02-26T07:34:33.946983Z",
          "shell.execute_reply": "2025-02-26T07:35:03.539989Z"
        },
        "colab": {
          "base_uri": "https://localhost:8080/"
        },
        "id": "nB8iNdOdM1jp",
        "outputId": "050aaed6-e6f2-4639-80ce-26c28116bdf1"
      },
      "outputs": [
        {
          "output_type": "stream",
          "name": "stdout",
          "text": [
            "✅ Veri başarıyla train/test olarak bölündü.\n"
          ]
        }
      ],
      "execution_count": 3
    },
    {
      "cell_type": "code",
      "source": [
        "import tensorflow as tf\n",
        "from tensorflow.keras.applications import VGG16\n",
        "from tensorflow.keras.models import Sequential\n",
        "from tensorflow.keras.layers import Dense, GlobalAveragePooling2D, Dropout\n",
        "from tensorflow.keras.optimizers import Adam\n",
        "from tensorflow.keras.callbacks import EarlyStopping, ModelCheckpoint\n",
        "import matplotlib.pyplot as plt\n",
        "\n",
        "# Veri dizinleri\n",
        "train_dir = \"/content/split_dataset/train\"\n",
        "test_dir = \"/content/split_dataset/test\"\n",
        "img_size = (224, 224)\n",
        "batch_size = 64\n",
        "epochs = 10 # İlk eğitim için epoch sayısı\n",
        "\n",
        "# Veri setlerini yükle\n",
        "train_dataset = tf.keras.preprocessing.image_dataset_from_directory(\n",
        "    train_dir,\n",
        "    image_size=img_size,\n",
        "    batch_size=batch_size,\n",
        "    label_mode='categorical',  # Etiketleri one-hot encode et\n",
        "    shuffle=True,\n",
        "    seed=42\n",
        ")\n",
        "\n",
        "test_dataset = tf.keras.preprocessing.image_dataset_from_directory(\n",
        "    test_dir,\n",
        "    image_size=img_size,\n",
        "    batch_size=batch_size,\n",
        "    label_mode='categorical',  # Etiketleri one-hot encode et\n",
        "    shuffle=False\n",
        ")\n",
        "\n",
        "from tensorflow.keras.layers import RandomFlip, RandomRotation, RandomZoom, RandomContrast\n",
        "\n",
        "# Veri artırma (Data Augmentation) katmanları\n",
        "data_augmentation = tf.keras.Sequential([\n",
        "    RandomFlip(\"horizontal_and_vertical\"),\n",
        "    RandomRotation(0.2),\n",
        "    RandomZoom(0.2),\n",
        "    RandomContrast(0.2)\n",
        "])\n",
        "\n",
        "\n",
        "\n",
        "# Veri setine artırma uygula\n",
        "train_dataset = train_dataset.map(\n",
        "    lambda x, y: (data_augmentation(x, training=True), y)\n",
        ")\n",
        "\n",
        "# Normalizasyon katmanı\n",
        "preprocess_input = tf.keras.applications.vgg16.preprocess_input\n",
        "\n",
        "# Veri setine normalizasyon uygula\n",
        "train_dataset = train_dataset.map(\n",
        "    lambda x, y: (preprocess_input(x), y)\n",
        ")\n",
        "test_dataset = test_dataset.map(\n",
        "    lambda x, y: (preprocess_input(x), y)\n",
        ")\n",
        "\n",
        "# Veri setlerini performans için optimize et\n",
        "AUTOTUNE = tf.data.AUTOTUNE\n",
        "train_dataset = train_dataset.prefetch(buffer_size=AUTOTUNE)\n",
        "test_dataset = test_dataset.prefetch(buffer_size=AUTOTUNE)\n"
      ],
      "metadata": {
        "trusted": true,
        "execution": {
          "iopub.status.busy": "2025-02-26T07:35:09.479949Z",
          "iopub.execute_input": "2025-02-26T07:35:09.480303Z",
          "iopub.status.idle": "2025-02-26T07:35:26.479267Z",
          "shell.execute_reply.started": "2025-02-26T07:35:09.480276Z",
          "shell.execute_reply": "2025-02-26T07:35:26.478073Z"
        },
        "colab": {
          "base_uri": "https://localhost:8080/"
        },
        "id": "EypFS3WGM1jr",
        "outputId": "658da4c8-ee61-4579-8798-4947fb6e0111"
      },
      "outputs": [
        {
          "output_type": "stream",
          "name": "stdout",
          "text": [
            "Found 5110 files belonging to 8 classes.\n",
            "Found 1282 files belonging to 8 classes.\n"
          ]
        }
      ],
      "execution_count": 4
    },
    {
      "cell_type": "code",
      "source": [
        "# VGG16 modelini yükle (transfer öğrenme)\n",
        "base_model = VGG16(weights='imagenet', include_top=False, input_shape=(224, 224, 3))\n",
        "base_model.trainable = False  # Başlangıçta katmanları dondur\n",
        "\n",
        "# Model mimarisi\n",
        "model = Sequential([\n",
        "    base_model,\n",
        "    GlobalAveragePooling2D(),\n",
        "    Dense(256, activation='relu'),\n",
        "    Dropout(0.5),\n",
        "    Dense(train_dataset.element_spec[1].shape[1], activation='softmax')  # Sınıf sayısı\n",
        "])"
      ],
      "metadata": {
        "trusted": true,
        "execution": {
          "iopub.status.busy": "2025-02-26T07:35:36.944756Z",
          "iopub.execute_input": "2025-02-26T07:35:36.945122Z",
          "iopub.status.idle": "2025-02-26T07:36:09.579212Z",
          "shell.execute_reply.started": "2025-02-26T07:35:36.945094Z",
          "shell.execute_reply": "2025-02-26T07:36:09.577069Z"
        },
        "colab": {
          "base_uri": "https://localhost:8080/"
        },
        "id": "6BRK9EmVM1jr",
        "outputId": "ace75b19-0aae-4c24-d305-fedc10703d7a"
      },
      "outputs": [
        {
          "output_type": "stream",
          "name": "stdout",
          "text": [
            "Downloading data from https://storage.googleapis.com/tensorflow/keras-applications/vgg16/vgg16_weights_tf_dim_ordering_tf_kernels_notop.h5\n",
            "\u001b[1m58889256/58889256\u001b[0m \u001b[32m━━━━━━━━━━━━━━━━━━━━\u001b[0m\u001b[37m\u001b[0m \u001b[1m4s\u001b[0m 0us/step\n"
          ]
        }
      ],
      "execution_count": 5
    },
    {
      "cell_type": "code",
      "source": [
        "# Modeli derle\n",
        "model.compile(optimizer=Adam(learning_rate=0.001),\n",
        "              loss='categorical_crossentropy',\n",
        "              metrics=['accuracy'])\n",
        "\n",
        "# Callbacks\n",
        "early_stopping = EarlyStopping(monitor='val_loss', patience=5, restore_best_weights=True)\n",
        "model_checkpoint = ModelCheckpoint('vgg16_model.keras', save_best_only=True, monitor='val_accuracy')\n",
        "\n",
        "\n",
        "# İlk eğitim (transfer öğrenme)\n",
        "history = model.fit(\n",
        "    train_dataset,\n",
        "    epochs=epochs,\n",
        "    validation_data=test_dataset,\n",
        "    callbacks=[early_stopping, model_checkpoint]\n",
        ")\n",
        "\n"
      ],
      "metadata": {
        "trusted": true,
        "execution": {
          "iopub.status.busy": "2025-02-26T07:36:09.579927Z",
          "iopub.status.idle": "2025-02-26T07:36:09.580256Z",
          "shell.execute_reply": "2025-02-26T07:36:09.580131Z"
        },
        "colab": {
          "base_uri": "https://localhost:8080/"
        },
        "id": "u6RV0VloM1jr",
        "outputId": "0df6a712-2557-46f1-9178-18beefb73068"
      },
      "outputs": [
        {
          "output_type": "stream",
          "name": "stdout",
          "text": [
            "Epoch 1/10\n",
            "\u001b[1m80/80\u001b[0m \u001b[32m━━━━━━━━━━━━━━━━━━━━\u001b[0m\u001b[37m\u001b[0m \u001b[1m129s\u001b[0m 1s/step - accuracy: 0.3270 - loss: 4.2828 - val_accuracy: 0.4906 - val_loss: 1.4058\n",
            "Epoch 2/10\n",
            "\u001b[1m80/80\u001b[0m \u001b[32m━━━━━━━━━━━━━━━━━━━━\u001b[0m\u001b[37m\u001b[0m \u001b[1m103s\u001b[0m 1s/step - accuracy: 0.4651 - loss: 1.5089 - val_accuracy: 0.4922 - val_loss: 1.3428\n",
            "Epoch 3/10\n",
            "\u001b[1m80/80\u001b[0m \u001b[32m━━━━━━━━━━━━━━━━━━━━\u001b[0m\u001b[37m\u001b[0m \u001b[1m143s\u001b[0m 1s/step - accuracy: 0.4787 - loss: 1.4103 - val_accuracy: 0.5094 - val_loss: 1.3072\n",
            "Epoch 4/10\n",
            "\u001b[1m80/80\u001b[0m \u001b[32m━━━━━━━━━━━━━━━━━━━━\u001b[0m\u001b[37m\u001b[0m \u001b[1m142s\u001b[0m 1s/step - accuracy: 0.4737 - loss: 1.3994 - val_accuracy: 0.5156 - val_loss: 1.2954\n",
            "Epoch 5/10\n",
            "\u001b[1m80/80\u001b[0m \u001b[32m━━━━━━━━━━━━━━━━━━━━\u001b[0m\u001b[37m\u001b[0m \u001b[1m147s\u001b[0m 1s/step - accuracy: 0.5135 - loss: 1.3234 - val_accuracy: 0.5242 - val_loss: 1.2758\n",
            "Epoch 6/10\n",
            "\u001b[1m80/80\u001b[0m \u001b[32m━━━━━━━━━━━━━━━━━━━━\u001b[0m\u001b[37m\u001b[0m \u001b[1m88s\u001b[0m 1s/step - accuracy: 0.5007 - loss: 1.3285 - val_accuracy: 0.5257 - val_loss: 1.2581\n",
            "Epoch 7/10\n",
            "\u001b[1m80/80\u001b[0m \u001b[32m━━━━━━━━━━━━━━━━━━━━\u001b[0m\u001b[37m\u001b[0m \u001b[1m92s\u001b[0m 1s/step - accuracy: 0.5125 - loss: 1.2983 - val_accuracy: 0.5257 - val_loss: 1.2421\n",
            "Epoch 8/10\n",
            "\u001b[1m80/80\u001b[0m \u001b[32m━━━━━━━━━━━━━━━━━━━━\u001b[0m\u001b[37m\u001b[0m \u001b[1m89s\u001b[0m 1s/step - accuracy: 0.5205 - loss: 1.2788 - val_accuracy: 0.5312 - val_loss: 1.2474\n",
            "Epoch 9/10\n",
            "\u001b[1m80/80\u001b[0m \u001b[32m━━━━━━━━━━━━━━━━━━━━\u001b[0m\u001b[37m\u001b[0m \u001b[1m88s\u001b[0m 1s/step - accuracy: 0.5160 - loss: 1.2849 - val_accuracy: 0.5273 - val_loss: 1.2475\n",
            "Epoch 10/10\n",
            "\u001b[1m80/80\u001b[0m \u001b[32m━━━━━━━━━━━━━━━━━━━━\u001b[0m\u001b[37m\u001b[0m \u001b[1m93s\u001b[0m 1s/step - accuracy: 0.5249 - loss: 1.2561 - val_accuracy: 0.5460 - val_loss: 1.2295\n"
          ]
        }
      ],
      "execution_count": 6
    },
    {
      "cell_type": "code",
      "source": [
        "# Sonuçları görselleştir\n",
        "plt.figure(figsize=(12, 5))\n",
        "plt.subplot(1, 2, 1)\n",
        "plt.plot(history.history['accuracy'], label='Eğitim Doğruluğu')\n",
        "plt.plot(history.history['val_accuracy'], label='Doğrulama Doğruluğu')\n",
        "plt.title('Model Doğruluğu')\n",
        "plt.legend()\n",
        "\n",
        "plt.subplot(1, 2, 2)\n",
        "plt.plot(history.history['loss'], label='Eğitim Kaybı')\n",
        "plt.plot(history.history['val_loss'], label='Doğrulama Kaybı')\n",
        "plt.title('Model Kaybı')\n",
        "plt.legend()\n",
        "\n",
        "plt.show()"
      ],
      "metadata": {
        "trusted": true,
        "execution": {
          "iopub.status.busy": "2025-02-26T07:36:09.581166Z",
          "iopub.status.idle": "2025-02-26T07:36:09.581543Z",
          "shell.execute_reply": "2025-02-26T07:36:09.581405Z"
        },
        "colab": {
          "base_uri": "https://localhost:8080/",
          "height": 468
        },
        "id": "0pSalOIdM1jr",
        "outputId": "aed40d79-9c85-4eec-8d20-3fd43aac3532"
      },
      "outputs": [
        {
          "output_type": "display_data",
          "data": {
            "text/plain": [
              "<Figure size 1200x500 with 2 Axes>"
            ],
            "image/png": "[encoded data removed]"
          },
          "metadata": {}
        }
      ],
      "execution_count": 7
    },
    {
      "cell_type": "code",
      "source": [
        "from sklearn.metrics import classification_report, confusion_matrix\n",
        "import numpy as np\n",
        "\n",
        "# Test veri kümesini tahmin et\n",
        "true_labels = []\n",
        "predicted_labels = []\n",
        "\n",
        "for images, labels in test_dataset:\n",
        "    preds = model.predict(images)\n",
        "    predicted_classes = np.argmax(preds, axis=1)\n",
        "    true_classes = np.argmax(labels.numpy(), axis=1)\n",
        "\n",
        "    predicted_labels.extend(predicted_classes)\n",
        "    true_labels.extend(true_classes)\n",
        "\n",
        "# Performans raporu\n",
        "unique_classes = sorted(set(true_labels + predicted_labels))\n",
        "target_names = [str(cls) for cls in unique_classes]\n",
        "report = classification_report(true_labels, predicted_labels, target_names=target_names)\n",
        "print(\"Classification Report:\\n\", report)\n",
        "\n",
        "# Confusion matrix\n",
        "cmp = confusion_matrix(true_labels, predicted_labels)\n",
        "print(\"Confusion Matrix:\\n\", cmp)\n"
      ],
      "metadata": {
        "trusted": true,
        "execution": {
          "iopub.status.busy": "2025-02-26T07:36:09.582443Z",
          "iopub.status.idle": "2025-02-26T07:36:09.582817Z",
          "shell.execute_reply": "2025-02-26T07:36:09.582654Z"
        },
        "colab": {
          "base_uri": "https://localhost:8080/"
        },
        "id": "X86uUrK4M1jr",
        "outputId": "5a3e04a9-f8d1-49e3-c777-b36243e6988f"
      },
      "outputs": [
        {
          "output_type": "stream",
          "name": "stdout",
          "text": [
            "\u001b[1m2/2\u001b[0m \u001b[32m━━━━━━━━━━━━━━━━━━━━\u001b[0m\u001b[37m\u001b[0m \u001b[1m11s\u001b[0m 173ms/step\n",
            "\u001b[1m2/2\u001b[0m \u001b[32m━━━━━━━━━━━━━━━━━━━━\u001b[0m\u001b[37m\u001b[0m \u001b[1m0s\u001b[0m 174ms/step\n",
            "\u001b[1m2/2\u001b[0m \u001b[32m━━━━━━━━━━━━━━━━━━━━\u001b[0m\u001b[37m\u001b[0m \u001b[1m0s\u001b[0m 171ms/step\n",
            "\u001b[1m2/2\u001b[0m \u001b[32m━━━━━━━━━━━━━━━━━━━━\u001b[0m\u001b[37m\u001b[0m \u001b[1m0s\u001b[0m 169ms/step\n",
            "\u001b[1m2/2\u001b[0m \u001b[32m━━━━━━━━━━━━━━━━━━━━\u001b[0m\u001b[37m\u001b[0m \u001b[1m0s\u001b[0m 171ms/step\n",
            "\u001b[1m2/2\u001b[0m \u001b[32m━━━━━━━━━━━━━━━━━━━━\u001b[0m\u001b[37m\u001b[0m \u001b[1m0s\u001b[0m 168ms/step\n",
            "\u001b[1m2/2\u001b[0m \u001b[32m━━━━━━━━━━━━━━━━━━━━\u001b[0m\u001b[37m\u001b[0m \u001b[1m0s\u001b[0m 169ms/step\n",
            "\u001b[1m2/2\u001b[0m \u001b[32m━━━━━━━━━━━━━━━━━━━━\u001b[0m\u001b[37m\u001b[0m \u001b[1m0s\u001b[0m 171ms/step\n",
            "\u001b[1m2/2\u001b[0m \u001b[32m━━━━━━━━━━━━━━━━━━━━\u001b[0m\u001b[37m\u001b[0m \u001b[1m0s\u001b[0m 173ms/step\n",
            "\u001b[1m2/2\u001b[0m \u001b[32m━━━━━━━━━━━━━━━━━━━━\u001b[0m\u001b[37m\u001b[0m \u001b[1m0s\u001b[0m 171ms/step\n",
            "\u001b[1m2/2\u001b[0m \u001b[32m━━━━━━━━━━━━━━━━━━━━\u001b[0m\u001b[37m\u001b[0m \u001b[1m0s\u001b[0m 167ms/step\n",
            "\u001b[1m2/2\u001b[0m \u001b[32m━━━━━━━━━━━━━━━━━━━━\u001b[0m\u001b[37m\u001b[0m \u001b[1m0s\u001b[0m 173ms/step\n",
            "\u001b[1m2/2\u001b[0m \u001b[32m━━━━━━━━━━━━━━━━━━━━\u001b[0m\u001b[37m\u001b[0m \u001b[1m0s\u001b[0m 170ms/step\n",
            "\u001b[1m2/2\u001b[0m \u001b[32m━━━━━━━━━━━━━━━━━━━━\u001b[0m\u001b[37m\u001b[0m \u001b[1m0s\u001b[0m 170ms/step\n",
            "\u001b[1m2/2\u001b[0m \u001b[32m━━━━━━━━━━━━━━━━━━━━\u001b[0m\u001b[37m\u001b[0m \u001b[1m0s\u001b[0m 169ms/step\n",
            "\u001b[1m2/2\u001b[0m \u001b[32m━━━━━━━━━━━━━━━━━━━━\u001b[0m\u001b[37m\u001b[0m \u001b[1m0s\u001b[0m 175ms/step\n",
            "\u001b[1m2/2\u001b[0m \u001b[32m━━━━━━━━━━━━━━━━━━━━\u001b[0m\u001b[37m\u001b[0m \u001b[1m0s\u001b[0m 175ms/step\n",
            "\u001b[1m2/2\u001b[0m \u001b[32m━━━━━━━━━━━━━━━━━━━━\u001b[0m\u001b[37m\u001b[0m \u001b[1m0s\u001b[0m 175ms/step\n",
            "\u001b[1m2/2\u001b[0m \u001b[32m━━━━━━━━━━━━━━━━━━━━\u001b[0m\u001b[37m\u001b[0m \u001b[1m0s\u001b[0m 177ms/step\n",
            "\u001b[1m2/2\u001b[0m \u001b[32m━━━━━━━━━━━━━━━━━━━━\u001b[0m\u001b[37m\u001b[0m \u001b[1m0s\u001b[0m 181ms/step\n",
            "\u001b[1m1/1\u001b[0m \u001b[32m━━━━━━━━━━━━━━━━━━━━\u001b[0m\u001b[37m\u001b[0m \u001b[1m1s\u001b[0m 597ms/step\n",
            "Classification Report:\n",
            "               precision    recall  f1-score   support\n",
            "\n",
            "           0       0.00      0.00      0.00        54\n",
            "           1       0.74      0.73      0.74        59\n",
            "           2       0.47      0.29      0.36       322\n",
            "           3       0.67      0.04      0.07        57\n",
            "           4       0.00      0.00      0.00        26\n",
            "           5       0.89      0.72      0.80        47\n",
            "           6       0.54      0.91      0.68       575\n",
            "           7       0.29      0.01      0.03       142\n",
            "\n",
            "    accuracy                           0.55      1282\n",
            "   macro avg       0.45      0.34      0.33      1282\n",
            "weighted avg       0.49      0.55      0.46      1282\n",
            "\n",
            "Confusion Matrix:\n",
            " [[  0   1  17   0   0   0  35   1]\n",
            " [  0  43   2   0   0   0  13   1]\n",
            " [  0   0  94   0   0   2 224   2]\n",
            " [  0   3   6   2   0   1  44   1]\n",
            " [  0   0   9   0   0   0  17   0]\n",
            " [  0   0   2   0   0  34  11   0]\n",
            " [  0   5  44   1   0   0 525   0]\n",
            " [  0   6  28   0   0   1 105   2]]\n"
          ]
        },
        {
          "output_type": "stream",
          "name": "stderr",
          "text": [
            "/usr/local/lib/python3.11/dist-packages/sklearn/metrics/_classification.py:1565: UndefinedMetricWarning: Precision is ill-defined and being set to 0.0 in labels with no predicted samples. Use `zero_division` parameter to control this behavior.\n",
            "  _warn_prf(average, modifier, f\"{metric.capitalize()} is\", len(result))\n",
            "/usr/local/lib/python3.11/dist-packages/sklearn/metrics/_classification.py:1565: UndefinedMetricWarning: Precision is ill-defined and being set to 0.0 in labels with no predicted samples. Use `zero_division` parameter to control this behavior.\n",
            "  _warn_prf(average, modifier, f\"{metric.capitalize()} is\", len(result))\n",
            "/usr/local/lib/python3.11/dist-packages/sklearn/metrics/_classification.py:1565: UndefinedMetricWarning: Precision is ill-defined and being set to 0.0 in labels with no predicted samples. Use `zero_division` parameter to control this behavior.\n",
            "  _warn_prf(average, modifier, f\"{metric.capitalize()} is\", len(result))\n"
          ]
        }
      ],
      "execution_count": 8
    }
  ]
}