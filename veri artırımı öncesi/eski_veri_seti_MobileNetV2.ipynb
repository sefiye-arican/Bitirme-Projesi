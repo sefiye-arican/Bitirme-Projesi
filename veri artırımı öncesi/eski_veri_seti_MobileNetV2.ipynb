{
  "metadata": {
    "kernelspec": {
      "display_name": "Python 3",
      "name": "python3"
    },
    "language_info": {
      "name": "python",
      "version": "3.10.12",
      "mimetype": "text/x-python",
      "codemirror_mode": {
        "name": "ipython",
        "version": 3
      },
      "pygments_lexer": "ipython3",
      "nbconvert_exporter": "python",
      "file_extension": ".py"
    },
    "kaggle": {
      "accelerator": "none",
      "dataSources": [
        {
          "sourceId": 10755234,
          "sourceType": "datasetVersion",
          "datasetId": 6670793
        }
      ],
      "dockerImageVersionId": 30918,
      "isInternetEnabled": false,
      "language": "python",
      "sourceType": "notebook",
      "isGpuEnabled": false
    },
    "colab": {
      "provenance": [],
      "gpuType": "T4"
    },
    "accelerator": "GPU"
  },
  "nbformat_minor": 0,
  "nbformat": 4,
  "cells": [
    {
      "cell_type": "code",
      "source": [
        "import shutil\n",
        "\n",
        "zip_path = \"/content/archive.zip\"  # Zip dosyasının konumu\n",
        "extract_to = \"/content/eski-veri-seti-snf-karm\"  # Çıkartılacak hedef klasör\n",
        "\n",
        "shutil.unpack_archive(zip_path, extract_to)\n",
        "\n",
        "print(\"✅ Dosya başarıyla çıkartıldı!\")\n"
      ],
      "metadata": {
        "colab": {
          "base_uri": "https://localhost:8080/"
        },
        "id": "YfHXTj1TNpO6",
        "outputId": "0afe369c-c3a6-47c3-a60a-bb153c9085f0"
      },
      "execution_count": 2,
      "outputs": [
        {
          "output_type": "stream",
          "name": "stdout",
          "text": [
            "✅ Dosya başarıyla çıkartıldı!\n"
          ]
        }
      ]
    },
    {
      "cell_type": "code",
      "source": [
        "import os\n",
        "import shutil\n",
        "from sklearn.model_selection import train_test_split\n",
        "\n",
        "# Ana veri dizini ve hedef dizinleri tanımla\n",
        "base_dir = \"/content/eski-veri-seti-snf-karm\"\n",
        "output_dir = \"/content/split_dataset\"\n",
        "train_dir = os.path.join(output_dir, \"train\")\n",
        "test_dir = os.path.join(output_dir, \"test\")\n",
        "\n",
        "# Oranları belirle\n",
        "test_size = 0.2\n",
        "\n",
        "# Mevcut dizinleri temizle ve yeniden oluştur\n",
        "for folder in [train_dir, test_dir]:\n",
        "    if os.path.exists(folder):\n",
        "        shutil.rmtree(folder)\n",
        "    os.makedirs(folder)\n",
        "\n",
        "# Her bir sınıfı ayrı ayrı işle\n",
        "for class_name in os.listdir(base_dir):\n",
        "    class_path = os.path.join(base_dir, class_name)\n",
        "    if not os.path.isdir(class_path):\n",
        "        continue\n",
        "\n",
        "    # Görselleri listele ve train/test olarak ayır\n",
        "    images = [img for img in os.listdir(class_path) if img.endswith(('.jpg', '.jpeg', '.png'))]\n",
        "    train_images, test_images = train_test_split(images, test_size=test_size, random_state=42)\n",
        "\n",
        "    # Hedef klasörleri oluştur\n",
        "    train_class_dir = os.path.join(train_dir, class_name)\n",
        "    test_class_dir = os.path.join(test_dir, class_name)\n",
        "    os.makedirs(train_class_dir, exist_ok=True)\n",
        "    os.makedirs(test_class_dir, exist_ok=True)\n",
        "\n",
        "    # Görselleri ilgili klasörlere KOPYALA\n",
        "    for img in train_images:\n",
        "        shutil.copy2(os.path.join(class_path, img), os.path.join(train_class_dir, img))\n",
        "    for img in test_images:\n",
        "        shutil.copy2(os.path.join(class_path, img), os.path.join(test_class_dir, img))\n",
        "\n",
        "print(\"✅ Veri başarıyla train/test olarak bölündü.\")\n"
      ],
      "metadata": {
        "_uuid": "8f2839f25d086af736a60e9eeb907d3b93b6e0e5",
        "_cell_guid": "b1076dfc-b9ad-4769-8c92-a6c4dae69d19",
        "trusted": true,
        "execution": {
          "iopub.status.busy": "2025-02-26T07:34:33.946755Z",
          "iopub.execute_input": "2025-02-26T07:34:33.947007Z",
          "iopub.status.idle": "2025-02-26T07:35:03.541172Z",
          "shell.execute_reply.started": "2025-02-26T07:34:33.946983Z",
          "shell.execute_reply": "2025-02-26T07:35:03.539989Z"
        },
        "colab": {
          "base_uri": "https://localhost:8080/"
        },
        "id": "nB8iNdOdM1jp",
        "outputId": "050aaed6-e6f2-4639-80ce-26c28116bdf1"
      },
      "outputs": [
        {
          "output_type": "stream",
          "name": "stdout",
          "text": [
            "✅ Veri başarıyla train/test olarak bölündü.\n"
          ]
        }
      ],
      "execution_count": 3
    },
    {
      "cell_type": "code",
      "source": [
        "import tensorflow as tf\n",
        "from tensorflow.keras.applications import VGG16\n",
        "from tensorflow.keras.models import Sequential\n",
        "from tensorflow.keras.layers import Dense, GlobalAveragePooling2D, Dropout\n",
        "from tensorflow.keras.optimizers import Adam\n",
        "from tensorflow.keras.callbacks import EarlyStopping, ModelCheckpoint\n",
        "import matplotlib.pyplot as plt\n",
        "\n",
        "# Veri dizinleri\n",
        "train_dir = \"/content/split_dataset/train\"\n",
        "test_dir = \"/content/split_dataset/test\"\n",
        "img_size = (224, 224)\n",
        "batch_size = 64\n",
        "epochs = 10 # İlk eğitim için epoch sayısı\n",
        "\n",
        "# Veri setlerini yükle\n",
        "train_dataset = tf.keras.preprocessing.image_dataset_from_directory(\n",
        "    train_dir,\n",
        "    image_size=img_size,\n",
        "    batch_size=batch_size,\n",
        "    label_mode='categorical',  # Etiketleri one-hot encode et\n",
        "    shuffle=True,\n",
        "    seed=42\n",
        ")\n",
        "\n",
        "test_dataset = tf.keras.preprocessing.image_dataset_from_directory(\n",
        "    test_dir,\n",
        "    image_size=img_size,\n",
        "    batch_size=batch_size,\n",
        "    label_mode='categorical',  # Etiketleri one-hot encode et\n",
        "    shuffle=False\n",
        ")\n",
        "\n",
        "from tensorflow.keras.layers import RandomFlip, RandomRotation, RandomZoom, RandomContrast\n",
        "\n",
        "# Veri artırma (Data Augmentation) katmanları\n",
        "data_augmentation = tf.keras.Sequential([\n",
        "    RandomFlip(\"horizontal_and_vertical\"),\n",
        "    RandomRotation(0.2),\n",
        "    RandomZoom(0.2),\n",
        "    RandomContrast(0.2)\n",
        "])\n",
        "\n",
        "\n",
        "\n",
        "# Veri setine artırma uygula\n",
        "train_dataset = train_dataset.map(\n",
        "    lambda x, y: (data_augmentation(x, training=True), y)\n",
        ")\n",
        "\n",
        "# Normalizasyon katmanı\n",
        "preprocess_input = tf.keras.applications.vgg16.preprocess_input\n",
        "\n",
        "# Veri setine normalizasyon uygula\n",
        "train_dataset = train_dataset.map(\n",
        "    lambda x, y: (preprocess_input(x), y)\n",
        ")\n",
        "test_dataset = test_dataset.map(\n",
        "    lambda x, y: (preprocess_input(x), y)\n",
        ")\n",
        "\n",
        "# Veri setlerini performans için optimize et\n",
        "AUTOTUNE = tf.data.AUTOTUNE\n",
        "train_dataset = train_dataset.prefetch(buffer_size=AUTOTUNE)\n",
        "test_dataset = test_dataset.prefetch(buffer_size=AUTOTUNE)\n"
      ],
      "metadata": {
        "trusted": true,
        "execution": {
          "iopub.status.busy": "2025-02-26T07:35:09.479949Z",
          "iopub.execute_input": "2025-02-26T07:35:09.480303Z",
          "iopub.status.idle": "2025-02-26T07:35:26.479267Z",
          "shell.execute_reply.started": "2025-02-26T07:35:09.480276Z",
          "shell.execute_reply": "2025-02-26T07:35:26.478073Z"
        },
        "colab": {
          "base_uri": "https://localhost:8080/"
        },
        "id": "EypFS3WGM1jr",
        "outputId": "a1f9fc7a-985e-4b3b-edaa-cb92b5cde363"
      },
      "outputs": [
        {
          "output_type": "stream",
          "name": "stdout",
          "text": [
            "Found 5110 files belonging to 8 classes.\n",
            "Found 1282 files belonging to 8 classes.\n"
          ]
        }
      ],
      "execution_count": 13
    },
    {
      "cell_type": "code",
      "source": [
        "from tensorflow.keras.applications import MobileNetV2\n",
        "\n",
        "# MobileNetV2 modelini yükle\n",
        "base_model = MobileNetV2(weights='imagenet', include_top=False, input_shape=(224, 224, 3))\n",
        "base_model.trainable = False\n",
        "\n",
        "# Model mimarisi\n",
        "model = Sequential([\n",
        "    base_model,\n",
        "    GlobalAveragePooling2D(),\n",
        "    Dense(256, activation='relu'),\n",
        "    Dropout(0.5),\n",
        "    Dense(train_dataset.element_spec[1].shape[1], activation='softmax')\n",
        "])\n",
        "\n",
        "# Modeli derle\n",
        "model.compile(optimizer=Adam(learning_rate=0.001),\n",
        "              loss='categorical_crossentropy',\n",
        "              metrics=['accuracy'])\n",
        "\n",
        "# Callbacks\n",
        "early_stopping = EarlyStopping(monitor='val_loss', patience=5, restore_best_weights=True)\n",
        "model_checkpoint = ModelCheckpoint('mobilenetv2_model.keras', save_best_only=True, monitor='val_accuracy')\n",
        "\n",
        "# İlk eğitim (transfer öğrenme)\n",
        "history = model.fit(\n",
        "    train_dataset,\n",
        "    epochs=epochs,\n",
        "    validation_data=test_dataset,\n",
        "    callbacks=[early_stopping, model_checkpoint]\n",
        ")"
      ],
      "metadata": {
        "trusted": true,
        "execution": {
          "iopub.status.busy": "2025-02-26T07:35:36.944756Z",
          "iopub.execute_input": "2025-02-26T07:35:36.945122Z",
          "iopub.status.idle": "2025-02-26T07:36:09.579212Z",
          "shell.execute_reply.started": "2025-02-26T07:35:36.945094Z",
          "shell.execute_reply": "2025-02-26T07:36:09.577069Z"
        },
        "colab": {
          "base_uri": "https://localhost:8080/"
        },
        "id": "6BRK9EmVM1jr",
        "outputId": "c6398b85-3394-4d8d-c3be-8db95cf4fcb9"
      },
      "outputs": [
        {
          "output_type": "stream",
          "name": "stdout",
          "text": [
            "Downloading data from https://storage.googleapis.com/tensorflow/keras-applications/mobilenet_v2/mobilenet_v2_weights_tf_dim_ordering_tf_kernels_1.0_224_no_top.h5\n",
            "\u001b[1m9406464/9406464\u001b[0m \u001b[32m━━━━━━━━━━━━━━━━━━━━\u001b[0m\u001b[37m\u001b[0m \u001b[1m1s\u001b[0m 0us/step\n",
            "Epoch 1/10\n",
            "\u001b[1m80/80\u001b[0m \u001b[32m━━━━━━━━━━━━━━━━━━━━\u001b[0m\u001b[37m\u001b[0m \u001b[1m103s\u001b[0m 1s/step - accuracy: 0.3709 - loss: 1.8142 - val_accuracy: 0.4493 - val_loss: 1.4553\n",
            "Epoch 2/10\n",
            "\u001b[1m80/80\u001b[0m \u001b[32m━━━━━━━━━━━━━━━━━━━━\u001b[0m\u001b[37m\u001b[0m \u001b[1m125s\u001b[0m 1s/step - accuracy: 0.4308 - loss: 1.4961 - val_accuracy: 0.4228 - val_loss: 1.4391\n",
            "Epoch 3/10\n",
            "\u001b[1m80/80\u001b[0m \u001b[32m━━━━━━━━━━━━━━━━━━━━\u001b[0m\u001b[37m\u001b[0m \u001b[1m82s\u001b[0m 1s/step - accuracy: 0.4407 - loss: 1.4472 - val_accuracy: 0.4563 - val_loss: 1.4086\n",
            "Epoch 4/10\n",
            "\u001b[1m80/80\u001b[0m \u001b[32m━━━━━━━━━━━━━━━━━━━━\u001b[0m\u001b[37m\u001b[0m \u001b[1m80s\u001b[0m 1s/step - accuracy: 0.4431 - loss: 1.4458 - val_accuracy: 0.4727 - val_loss: 1.3855\n",
            "Epoch 5/10\n",
            "\u001b[1m80/80\u001b[0m \u001b[32m━━━━━━━━━━━━━━━━━━━━\u001b[0m\u001b[37m\u001b[0m \u001b[1m82s\u001b[0m 998ms/step - accuracy: 0.4596 - loss: 1.4141 - val_accuracy: 0.4696 - val_loss: 1.3848\n",
            "Epoch 6/10\n",
            "\u001b[1m80/80\u001b[0m \u001b[32m━━━━━━━━━━━━━━━━━━━━\u001b[0m\u001b[37m\u001b[0m \u001b[1m81s\u001b[0m 1s/step - accuracy: 0.4630 - loss: 1.3984 - val_accuracy: 0.4735 - val_loss: 1.3403\n",
            "Epoch 7/10\n",
            "\u001b[1m80/80\u001b[0m \u001b[32m━━━━━━━━━━━━━━━━━━━━\u001b[0m\u001b[37m\u001b[0m \u001b[1m79s\u001b[0m 984ms/step - accuracy: 0.4691 - loss: 1.3590 - val_accuracy: 0.4657 - val_loss: 1.3764\n",
            "Epoch 8/10\n",
            "\u001b[1m80/80\u001b[0m \u001b[32m━━━━━━━━━━━━━━━━━━━━\u001b[0m\u001b[37m\u001b[0m \u001b[1m81s\u001b[0m 1s/step - accuracy: 0.4707 - loss: 1.3634 - val_accuracy: 0.4672 - val_loss: 1.3716\n",
            "Epoch 9/10\n",
            "\u001b[1m80/80\u001b[0m \u001b[32m━━━━━━━━━━━━━━━━━━━━\u001b[0m\u001b[37m\u001b[0m \u001b[1m80s\u001b[0m 1s/step - accuracy: 0.4728 - loss: 1.3491 - val_accuracy: 0.4649 - val_loss: 1.3800\n",
            "Epoch 10/10\n",
            "\u001b[1m80/80\u001b[0m \u001b[32m━━━━━━━━━━━━━━━━━━━━\u001b[0m\u001b[37m\u001b[0m \u001b[1m81s\u001b[0m 1s/step - accuracy: 0.4770 - loss: 1.3575 - val_accuracy: 0.4821 - val_loss: 1.3338\n"
          ]
        }
      ],
      "execution_count": 14
    },
    {
      "cell_type": "code",
      "source": [
        "# Sonuçları görselleştir\n",
        "plt.figure(figsize=(12, 5))\n",
        "plt.subplot(1, 2, 1)\n",
        "plt.plot(history.history['accuracy'], label='Eğitim Doğruluğu')\n",
        "plt.plot(history.history['val_accuracy'], label='Doğrulama Doğruluğu')\n",
        "plt.title('Model Doğruluğu')\n",
        "plt.legend()\n",
        "\n",
        "plt.subplot(1, 2, 2)\n",
        "plt.plot(history.history['loss'], label='Eğitim Kaybı')\n",
        "plt.plot(history.history['val_loss'], label='Doğrulama Kaybı')\n",
        "plt.title('Model Kaybı')\n",
        "plt.legend()\n",
        "\n",
        "plt.show()"
      ],
      "metadata": {
        "trusted": true,
        "execution": {
          "iopub.status.busy": "2025-02-26T07:36:09.581166Z",
          "iopub.status.idle": "2025-02-26T07:36:09.581543Z",
          "shell.execute_reply": "2025-02-26T07:36:09.581405Z"
        },
        "colab": {
          "base_uri": "https://localhost:8080/",
          "height": 468
        },
        "id": "0pSalOIdM1jr",
        "outputId": "e923e163-c23a-4a10-c389-70afae9ebf2d"
      },
      "outputs": [
        {
          "output_type": "display_data",
          "data": {
            "text/plain": [
              "<Figure size 1200x500 with 2 Axes>"
            ],
            "image/png": "[encoded data removed]"
          },
          "metadata": {}
        }
      ],
      "execution_count": 15
    },
    {
      "cell_type": "code",
      "source": [
        "from sklearn.metrics import classification_report, confusion_matrix\n",
        "import numpy as np\n",
        "\n",
        "# Test veri kümesini tahmin et\n",
        "true_labels = []\n",
        "predicted_labels = []\n",
        "\n",
        "for images, labels in test_dataset:\n",
        "    preds = model.predict(images)\n",
        "    predicted_classes = np.argmax(preds, axis=1)\n",
        "    true_classes = np.argmax(labels.numpy(), axis=1)\n",
        "\n",
        "    predicted_labels.extend(predicted_classes)\n",
        "    true_labels.extend(true_classes)\n",
        "\n",
        "# Performans raporu\n",
        "unique_classes = sorted(set(true_labels + predicted_labels))\n",
        "target_names = [str(cls) for cls in unique_classes]\n",
        "report = classification_report(true_labels, predicted_labels, target_names=target_names)\n",
        "print(\"Classification Report:\\n\", report)\n",
        "\n",
        "# Confusion matrix\n",
        "cmp = confusion_matrix(true_labels, predicted_labels)\n",
        "print(\"Confusion Matrix:\\n\", cmp)\n"
      ],
      "metadata": {
        "trusted": true,
        "execution": {
          "iopub.status.busy": "2025-02-26T07:36:09.582443Z",
          "iopub.status.idle": "2025-02-26T07:36:09.582817Z",
          "shell.execute_reply": "2025-02-26T07:36:09.582654Z"
        },
        "colab": {
          "base_uri": "https://localhost:8080/"
        },
        "id": "X86uUrK4M1jr",
        "outputId": "80b2cb8f-0a2e-451e-bd6a-e801ebbe3c03"
      },
      "outputs": [
        {
          "output_type": "stream",
          "name": "stdout",
          "text": [
            "\u001b[1m2/2\u001b[0m \u001b[32m━━━━━━━━━━━━━━━━━━━━\u001b[0m\u001b[37m\u001b[0m \u001b[1m6s\u001b[0m 42ms/step\n",
            "\u001b[1m2/2\u001b[0m \u001b[32m━━━━━━━━━━━━━━━━━━━━\u001b[0m\u001b[37m\u001b[0m \u001b[1m0s\u001b[0m 52ms/step\n",
            "\u001b[1m2/2\u001b[0m \u001b[32m━━━━━━━━━━━━━━━━━━━━\u001b[0m\u001b[37m\u001b[0m \u001b[1m0s\u001b[0m 50ms/step\n",
            "\u001b[1m2/2\u001b[0m \u001b[32m━━━━━━━━━━━━━━━━━━━━\u001b[0m\u001b[37m\u001b[0m \u001b[1m0s\u001b[0m 48ms/step\n",
            "\u001b[1m2/2\u001b[0m \u001b[32m━━━━━━━━━━━━━━━━━━━━\u001b[0m\u001b[37m\u001b[0m \u001b[1m0s\u001b[0m 54ms/step\n",
            "\u001b[1m2/2\u001b[0m \u001b[32m━━━━━━━━━━━━━━━━━━━━\u001b[0m\u001b[37m\u001b[0m \u001b[1m0s\u001b[0m 53ms/step\n",
            "\u001b[1m2/2\u001b[0m \u001b[32m━━━━━━━━━━━━━━━━━━━━\u001b[0m\u001b[37m\u001b[0m \u001b[1m0s\u001b[0m 53ms/step\n",
            "\u001b[1m2/2\u001b[0m \u001b[32m━━━━━━━━━━━━━━━━━━━━\u001b[0m\u001b[37m\u001b[0m \u001b[1m0s\u001b[0m 57ms/step\n",
            "\u001b[1m2/2\u001b[0m \u001b[32m━━━━━━━━━━━━━━━━━━━━\u001b[0m\u001b[37m\u001b[0m \u001b[1m0s\u001b[0m 53ms/step\n",
            "\u001b[1m2/2\u001b[0m \u001b[32m━━━━━━━━━━━━━━━━━━━━\u001b[0m\u001b[37m\u001b[0m \u001b[1m0s\u001b[0m 57ms/step\n",
            "\u001b[1m2/2\u001b[0m \u001b[32m━━━━━━━━━━━━━━━━━━━━\u001b[0m\u001b[37m\u001b[0m \u001b[1m0s\u001b[0m 54ms/step\n",
            "\u001b[1m2/2\u001b[0m \u001b[32m━━━━━━━━━━━━━━━━━━━━\u001b[0m\u001b[37m\u001b[0m \u001b[1m0s\u001b[0m 57ms/step\n",
            "\u001b[1m2/2\u001b[0m \u001b[32m━━━━━━━━━━━━━━━━━━━━\u001b[0m\u001b[37m\u001b[0m \u001b[1m0s\u001b[0m 64ms/step\n",
            "\u001b[1m2/2\u001b[0m \u001b[32m━━━━━━━━━━━━━━━━━━━━\u001b[0m\u001b[37m\u001b[0m \u001b[1m0s\u001b[0m 59ms/step\n",
            "\u001b[1m2/2\u001b[0m \u001b[32m━━━━━━━━━━━━━━━━━━━━\u001b[0m\u001b[37m\u001b[0m \u001b[1m0s\u001b[0m 57ms/step\n",
            "\u001b[1m2/2\u001b[0m \u001b[32m━━━━━━━━━━━━━━━━━━━━\u001b[0m\u001b[37m\u001b[0m \u001b[1m0s\u001b[0m 57ms/step\n",
            "\u001b[1m2/2\u001b[0m \u001b[32m━━━━━━━━━━━━━━━━━━━━\u001b[0m\u001b[37m\u001b[0m \u001b[1m0s\u001b[0m 55ms/step\n",
            "\u001b[1m2/2\u001b[0m \u001b[32m━━━━━━━━━━━━━━━━━━━━\u001b[0m\u001b[37m\u001b[0m \u001b[1m0s\u001b[0m 50ms/step\n",
            "\u001b[1m2/2\u001b[0m \u001b[32m━━━━━━━━━━━━━━━━━━━━\u001b[0m\u001b[37m\u001b[0m \u001b[1m0s\u001b[0m 49ms/step\n",
            "\u001b[1m2/2\u001b[0m \u001b[32m━━━━━━━━━━━━━━━━━━━━\u001b[0m\u001b[37m\u001b[0m \u001b[1m0s\u001b[0m 49ms/step\n",
            "\u001b[1m1/1\u001b[0m \u001b[32m━━━━━━━━━━━━━━━━━━━━\u001b[0m\u001b[37m\u001b[0m \u001b[1m3s\u001b[0m 3s/step\n",
            "Classification Report:\n",
            "               precision    recall  f1-score   support\n",
            "\n",
            "           0       0.00      0.00      0.00        54\n",
            "           1       0.73      0.32      0.45        59\n",
            "           2       1.00      0.01      0.01       322\n",
            "           3       1.00      0.02      0.03        57\n",
            "           4       0.00      0.00      0.00        26\n",
            "           5       0.78      0.53      0.63        47\n",
            "           6       0.47      0.99      0.64       575\n",
            "           7       0.00      0.00      0.00       142\n",
            "\n",
            "    accuracy                           0.48      1282\n",
            "   macro avg       0.50      0.23      0.22      1282\n",
            "weighted avg       0.57      0.48      0.33      1282\n",
            "\n",
            "Confusion Matrix:\n",
            " [[  0   0   0   0   0   1  53   0]\n",
            " [  0  19   0   0   0   1  39   0]\n",
            " [  0   0   2   0   0   1 319   0]\n",
            " [  0   2   0   1   0   2  52   0]\n",
            " [  0   0   0   0   0   0  26   0]\n",
            " [  0   0   0   0   0  25  22   0]\n",
            " [  0   3   0   0   0   1 571   0]\n",
            " [  0   2   0   0   0   1 139   0]]\n"
          ]
        },
        {
          "output_type": "stream",
          "name": "stderr",
          "text": [
            "/usr/local/lib/python3.11/dist-packages/sklearn/metrics/_classification.py:1565: UndefinedMetricWarning: Precision is ill-defined and being set to 0.0 in labels with no predicted samples. Use `zero_division` parameter to control this behavior.\n",
            "  _warn_prf(average, modifier, f\"{metric.capitalize()} is\", len(result))\n",
            "/usr/local/lib/python3.11/dist-packages/sklearn/metrics/_classification.py:1565: UndefinedMetricWarning: Precision is ill-defined and being set to 0.0 in labels with no predicted samples. Use `zero_division` parameter to control this behavior.\n",
            "  _warn_prf(average, modifier, f\"{metric.capitalize()} is\", len(result))\n",
            "/usr/local/lib/python3.11/dist-packages/sklearn/metrics/_classification.py:1565: UndefinedMetricWarning: Precision is ill-defined and being set to 0.0 in labels with no predicted samples. Use `zero_division` parameter to control this behavior.\n",
            "  _warn_prf(average, modifier, f\"{metric.capitalize()} is\", len(result))\n"
          ]
        }
      ],
      "execution_count": 16
    }
  ]
}